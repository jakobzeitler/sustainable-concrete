{
  "nbformat": 4,
  "nbformat_minor": 0,
  "metadata": {
    "colab": {
      "provenance": []
    },
    "kernelspec": {
      "name": "python3",
      "display_name": "Python 3"
    },
    "language_info": {
      "name": "python"
    }
  },
  "cells": [
    {
      "cell_type": "markdown",
      "source": [
        "# Project 12: Robust GPs for Sustainable Concrete via Bayesian Optimization\n",
        "\n",
        "as part of: https://ac-bo-hackathon.github.io/projects/project-12-matterhorn-studio-robust-gps/\n",
        "\n",
        "using data from https://github.com/facebookresearch/SustainableConcrete\n",
        "\n",
        ">We will provide a tutorial on how to use Robust GPs (https://arxiv.org/abs/2311.00463) for the Sustainable Concrete via Bayesian Optimization.\n",
        "\n",
        ">Meta at the end of 2023 published their research on “Sustainable Concrete via Bayesian Optimization”. Altamarino et al. published their work on “Robust and Conjugate Gaussian Process Regression” at the same time.\n",
        "\n",
        ">This project will introduce robust GPs to the concrete sciences for future BO campaigns. Concrete sciences experiments, like many other sciences, tend to suffer from the occassional outlier. Accounting for these outliers with robust GPs directly improves BO campaign convergence due to improved surrogate modeling. Note that this is related, but separate from the topic of robust optimization under input noise (see e.g., BoTorch tutorial).\n",
        "\n",
        ">We hope to showcase a first PoC of robust GP use for BO for concrete sciences, possibly a notebook tutorial for others to understand the use of robust GPs, e.g. in concrete sciences.\n"
      ],
      "metadata": {
        "id": "KBmUjIkh5hTV"
      }
    },
    {
      "cell_type": "markdown",
      "source": [
        "# Data\n",
        " from https://github.com/facebookresearch/SustainableConcrete\n",
        "\n",
        " The Input Variables are:\n",
        " - Cement\n",
        " - Fly Ash\n",
        " - Slag\n",
        " - Water\n",
        " - HRWR\n",
        " - Fine Aggregate\n",
        " - Curing Temp (°C)\n",
        "\n",
        " The targets are:\n",
        " - Strength (Mean)"
      ],
      "metadata": {
        "id": "cICmWKNc6DZr"
      }
    },
    {
      "cell_type": "code",
      "source": [
        "data_url = \"https://raw.githubusercontent.com/facebookresearch/SustainableConcrete/main/data/compressive_strength.csv\""
      ],
      "metadata": {
        "id": "68vO4FC26FeU"
      },
      "execution_count": 1,
      "outputs": []
    },
    {
      "cell_type": "code",
      "source": [
        "import pandas as pd\n",
        "import numpy as np\n",
        "data = pd.read_csv(data_url)\n",
        "used_columns = [\n",
        "        \"Mix ID\",\n",
        "        \"Name\",\n",
        "        \"Description\",\n",
        "        \"Cement\",\n",
        "        \"Fly Ash\",\n",
        "        \"Slag\",\n",
        "        \"Water\",\n",
        "        \"HRWR\",\n",
        "        \"Fine Aggregate\",\n",
        "        \"Curing Temp (°C)\",\n",
        "        \"Time\",\n",
        "        \"GWP\",\n",
        "        \"Strength (Mean)\",\n",
        "        \"Strength (Std)\",\n",
        "        \"# of measurements\",\n",
        "    ]\n",
        "data = data[used_columns]"
      ],
      "metadata": {
        "id": "ss25tQmF6Jo6"
      },
      "execution_count": 2,
      "outputs": []
    },
    {
      "cell_type": "markdown",
      "source": [
        "We do some preprocessing to remove rows with mission data."
      ],
      "metadata": {
        "id": "QseULiYmK39J"
      }
    },
    {
      "cell_type": "code",
      "source": [
        "data_index = 3\n",
        "data_columns = data.columns[data_index:]\n",
        "is_missing = np.isnan(data[data_columns].to_numpy())\n",
        "n_missing = is_missing.sum(axis=0)\n",
        "missing_col_ind = n_missing > 0\n",
        "if missing_col_ind.any():\n",
        "\n",
        "  print(f\"There are {missing_col_ind.sum()} columns with missing entries:\")\n",
        "  for name, missing in zip(\n",
        "      data_columns[missing_col_ind], n_missing[missing_col_ind]\n",
        "  ):\n",
        "      print(\"\\t-\", name, \"has\", missing.item(), \"missing entries.\")\n",
        "  print(\"\")\n",
        "  print(\"Removing missing rows with missing entries from data.\")\n",
        "missing_row_ind = [i for i in range(len(data)) if is_missing[i].any()]\n",
        "print(f\"\\t-Rows indices to be removed: {missing_row_ind = }\")\n",
        "data = data.drop(missing_row_ind)"
      ],
      "metadata": {
        "colab": {
          "base_uri": "https://localhost:8080/"
        },
        "id": "C8GjL6sYmVhO",
        "outputId": "a435087d-2a87-4755-ea24-78def9005bb4"
      },
      "execution_count": 3,
      "outputs": [
        {
          "output_type": "stream",
          "name": "stdout",
          "text": [
            "There are 6 columns with missing entries:\n",
            "\t- HRWR has 28 missing entries.\n",
            "\t- Curing Temp (°C) has 18 missing entries.\n",
            "\t- GWP has 4 missing entries.\n",
            "\t- Strength (Mean) has 22 missing entries.\n",
            "\t- Strength (Std) has 22 missing entries.\n",
            "\t- # of measurements has 22 missing entries.\n",
            "\n",
            "Removing missing rows with missing entries from data.\n",
            "\t-Rows indices to be removed: missing_row_ind = [110, 113, 152, 153, 154, 155, 239, 243, 244, 245, 246, 247, 248, 249, 250, 251, 252, 253, 254, 255, 256, 257, 258, 259, 260, 261, 262, 263, 264, 265, 266, 267]\n"
          ]
        }
      ]
    },
    {
      "cell_type": "markdown",
      "source": [
        "## Outlier Analysis:\n",
        "\n",
        "Question: Does the data have outliers?"
      ],
      "metadata": {
        "id": "vTHAjCM28ppO"
      }
    },
    {
      "cell_type": "code",
      "source": [
        "import seaborn as sns\n",
        "\n",
        "sns.histplot(x = \"Strength (Mean)\", data = data, bins=25, alpha=0.5,multiple = \"stack\")"
      ],
      "metadata": {
        "id": "6W9ZvMD9nPtu",
        "colab": {
          "base_uri": "https://localhost:8080/",
          "height": 466
        },
        "outputId": "54dd713d-8c34-437d-90a3-ad2e26907648"
      },
      "execution_count": 4,
      "outputs": [
        {
          "output_type": "execute_result",
          "data": {
            "text/plain": [
              "<Axes: xlabel='Strength (Mean)', ylabel='Count'>"
            ]
          },
          "metadata": {},
          "execution_count": 4
        },
        {
          "output_type": "display_data",
          "data": {
            "text/plain": [
              "<Figure size 640x480 with 1 Axes>"
            ],
            "image/png": "[encoded data removed]"
          },
          "metadata": {}
        }
      ]
    },
    {
      "cell_type": "code",
      "source": [
        "sns.displot(data=data, x='Strength (Mean)', col='Time', col_wrap=2, common_bins=False, height=4,bins=15, alpha = 0.5)"
      ],
      "metadata": {
        "id": "lBY17_oHLr0Z",
        "colab": {
          "base_uri": "https://localhost:8080/",
          "height": 823
        },
        "outputId": "9c45aa7a-126a-4fb3-b28f-e10dbdd72d38"
      },
      "execution_count": 5,
      "outputs": [
        {
          "output_type": "execute_result",
          "data": {
            "text/plain": [
              "<seaborn.axisgrid.FacetGrid at 0x7af8a237c910>"
            ]
          },
          "metadata": {},
          "execution_count": 5
        },
        {
          "output_type": "display_data",
          "data": {
            "text/plain": [
              "<Figure size 800x800 with 4 Axes>"
            ],
            "image/png": "[encoded data removed]"
          },
          "metadata": {}
        }
      ]
    },
    {
      "cell_type": "markdown",
      "source": [
        "We focus on predicting the strength at 28 days, as we have observed potential outliers within the range of 0 to 2000.\n"
      ],
      "metadata": {
        "id": "dBWZ7i9IKLbm"
      }
    },
    {
      "cell_type": "markdown",
      "source": [
        "## Apply Robust GP\n",
        "\n",
        "Question: Can we do better surrogate modelling for BO with robust GP?"
      ],
      "metadata": {
        "id": "wqiaeplX83rS"
      }
    },
    {
      "cell_type": "code",
      "source": [
        "!pip install gpflow\n",
        "import gpflow\n",
        "\n",
        "\n",
        "from rcgp import RCGPR\n",
        "from w import IMQ\n",
        "\n",
        "import matplotlib.pyplot as plt"
      ],
      "metadata": {
        "colab": {
          "base_uri": "https://localhost:8080/"
        },
        "id": "kE_IxBxKjdKl",
        "outputId": "470f6c11-755e-4d12-f4ff-566d886693a5"
      },
      "execution_count": 6,
      "outputs": [
        {
          "output_type": "stream",
          "name": "stdout",
          "text": [
            "Requirement already satisfied: gpflow in /usr/local/lib/python3.10/dist-packages (2.9.1)\n",
            "Requirement already satisfied: check-shapes>=1.0.0 in /usr/local/lib/python3.10/dist-packages (from gpflow) (1.1.1)\n",
            "Requirement already satisfied: deprecated in /usr/local/lib/python3.10/dist-packages (from gpflow) (1.2.14)\n",
            "Requirement already satisfied: multipledispatch>=0.6 in /usr/local/lib/python3.10/dist-packages (from gpflow) (1.0.0)\n",
            "Requirement already satisfied: numpy in /usr/local/lib/python3.10/dist-packages (from gpflow) (1.25.2)\n",
            "Requirement already satisfied: packaging in /usr/local/lib/python3.10/dist-packages (from gpflow) (24.0)\n",
            "Requirement already satisfied: scipy in /usr/local/lib/python3.10/dist-packages (from gpflow) (1.11.4)\n",
            "Requirement already satisfied: setuptools>=41.0.0 in /usr/local/lib/python3.10/dist-packages (from gpflow) (67.7.2)\n",
            "Requirement already satisfied: tabulate in /usr/local/lib/python3.10/dist-packages (from gpflow) (0.9.0)\n",
            "Requirement already satisfied: tensorflow-probability>=0.12.0 in /usr/local/lib/python3.10/dist-packages (from gpflow) (0.23.0)\n",
            "Requirement already satisfied: typing-extensions in /usr/local/lib/python3.10/dist-packages (from gpflow) (4.10.0)\n",
            "Requirement already satisfied: tensorflow>=2.4.0 in /usr/local/lib/python3.10/dist-packages (from gpflow) (2.15.0)\n",
            "Requirement already satisfied: dropstackframe>=0.1.0 in /usr/local/lib/python3.10/dist-packages (from check-shapes>=1.0.0->gpflow) (0.1.0)\n",
            "Requirement already satisfied: lark<2.0.0,>=1.1.0 in /usr/local/lib/python3.10/dist-packages (from check-shapes>=1.0.0->gpflow) (1.1.9)\n",
            "Requirement already satisfied: absl-py>=1.0.0 in /usr/local/lib/python3.10/dist-packages (from tensorflow>=2.4.0->gpflow) (1.4.0)\n",
            "Requirement already satisfied: astunparse>=1.6.0 in /usr/local/lib/python3.10/dist-packages (from tensorflow>=2.4.0->gpflow) (1.6.3)\n",
            "Requirement already satisfied: flatbuffers>=23.5.26 in /usr/local/lib/python3.10/dist-packages (from tensorflow>=2.4.0->gpflow) (24.3.7)\n",
            "Requirement already satisfied: gast!=0.5.0,!=0.5.1,!=0.5.2,>=0.2.1 in /usr/local/lib/python3.10/dist-packages (from tensorflow>=2.4.0->gpflow) (0.5.4)\n",
            "Requirement already satisfied: google-pasta>=0.1.1 in /usr/local/lib/python3.10/dist-packages (from tensorflow>=2.4.0->gpflow) (0.2.0)\n",
            "Requirement already satisfied: h5py>=2.9.0 in /usr/local/lib/python3.10/dist-packages (from tensorflow>=2.4.0->gpflow) (3.9.0)\n",
            "Requirement already satisfied: libclang>=13.0.0 in /usr/local/lib/python3.10/dist-packages (from tensorflow>=2.4.0->gpflow) (18.1.1)\n",
            "Requirement already satisfied: ml-dtypes~=0.2.0 in /usr/local/lib/python3.10/dist-packages (from tensorflow>=2.4.0->gpflow) (0.2.0)\n",
            "Requirement already satisfied: opt-einsum>=2.3.2 in /usr/local/lib/python3.10/dist-packages (from tensorflow>=2.4.0->gpflow) (3.3.0)\n",
            "Requirement already satisfied: protobuf!=4.21.0,!=4.21.1,!=4.21.2,!=4.21.3,!=4.21.4,!=4.21.5,<5.0.0dev,>=3.20.3 in /usr/local/lib/python3.10/dist-packages (from tensorflow>=2.4.0->gpflow) (3.20.3)\n",
            "Requirement already satisfied: six>=1.12.0 in /usr/local/lib/python3.10/dist-packages (from tensorflow>=2.4.0->gpflow) (1.16.0)\n",
            "Requirement already satisfied: termcolor>=1.1.0 in /usr/local/lib/python3.10/dist-packages (from tensorflow>=2.4.0->gpflow) (2.4.0)\n",
            "Requirement already satisfied: wrapt<1.15,>=1.11.0 in /usr/local/lib/python3.10/dist-packages (from tensorflow>=2.4.0->gpflow) (1.14.1)\n",
            "Requirement already satisfied: tensorflow-io-gcs-filesystem>=0.23.1 in /usr/local/lib/python3.10/dist-packages (from tensorflow>=2.4.0->gpflow) (0.36.0)\n",
            "Requirement already satisfied: grpcio<2.0,>=1.24.3 in /usr/local/lib/python3.10/dist-packages (from tensorflow>=2.4.0->gpflow) (1.62.1)\n",
            "Requirement already satisfied: tensorboard<2.16,>=2.15 in /usr/local/lib/python3.10/dist-packages (from tensorflow>=2.4.0->gpflow) (2.15.2)\n",
            "Requirement already satisfied: tensorflow-estimator<2.16,>=2.15.0 in /usr/local/lib/python3.10/dist-packages (from tensorflow>=2.4.0->gpflow) (2.15.0)\n",
            "Requirement already satisfied: keras<2.16,>=2.15.0 in /usr/local/lib/python3.10/dist-packages (from tensorflow>=2.4.0->gpflow) (2.15.0)\n",
            "Requirement already satisfied: decorator in /usr/local/lib/python3.10/dist-packages (from tensorflow-probability>=0.12.0->gpflow) (4.4.2)\n",
            "Requirement already satisfied: cloudpickle>=1.3 in /usr/local/lib/python3.10/dist-packages (from tensorflow-probability>=0.12.0->gpflow) (2.2.1)\n",
            "Requirement already satisfied: dm-tree in /usr/local/lib/python3.10/dist-packages (from tensorflow-probability>=0.12.0->gpflow) (0.1.8)\n",
            "Requirement already satisfied: wheel<1.0,>=0.23.0 in /usr/local/lib/python3.10/dist-packages (from astunparse>=1.6.0->tensorflow>=2.4.0->gpflow) (0.43.0)\n",
            "Requirement already satisfied: google-auth<3,>=1.6.3 in /usr/local/lib/python3.10/dist-packages (from tensorboard<2.16,>=2.15->tensorflow>=2.4.0->gpflow) (2.27.0)\n",
            "Requirement already satisfied: google-auth-oauthlib<2,>=0.5 in /usr/local/lib/python3.10/dist-packages (from tensorboard<2.16,>=2.15->tensorflow>=2.4.0->gpflow) (1.2.0)\n",
            "Requirement already satisfied: markdown>=2.6.8 in /usr/local/lib/python3.10/dist-packages (from tensorboard<2.16,>=2.15->tensorflow>=2.4.0->gpflow) (3.6)\n",
            "Requirement already satisfied: requests<3,>=2.21.0 in /usr/local/lib/python3.10/dist-packages (from tensorboard<2.16,>=2.15->tensorflow>=2.4.0->gpflow) (2.31.0)\n",
            "Requirement already satisfied: tensorboard-data-server<0.8.0,>=0.7.0 in /usr/local/lib/python3.10/dist-packages (from tensorboard<2.16,>=2.15->tensorflow>=2.4.0->gpflow) (0.7.2)\n",
            "Requirement already satisfied: werkzeug>=1.0.1 in /usr/local/lib/python3.10/dist-packages (from tensorboard<2.16,>=2.15->tensorflow>=2.4.0->gpflow) (3.0.1)\n",
            "Requirement already satisfied: cachetools<6.0,>=2.0.0 in /usr/local/lib/python3.10/dist-packages (from google-auth<3,>=1.6.3->tensorboard<2.16,>=2.15->tensorflow>=2.4.0->gpflow) (5.3.3)\n",
            "Requirement already satisfied: pyasn1-modules>=0.2.1 in /usr/local/lib/python3.10/dist-packages (from google-auth<3,>=1.6.3->tensorboard<2.16,>=2.15->tensorflow>=2.4.0->gpflow) (0.3.0)\n",
            "Requirement already satisfied: rsa<5,>=3.1.4 in /usr/local/lib/python3.10/dist-packages (from google-auth<3,>=1.6.3->tensorboard<2.16,>=2.15->tensorflow>=2.4.0->gpflow) (4.9)\n",
            "Requirement already satisfied: requests-oauthlib>=0.7.0 in /usr/local/lib/python3.10/dist-packages (from google-auth-oauthlib<2,>=0.5->tensorboard<2.16,>=2.15->tensorflow>=2.4.0->gpflow) (1.4.0)\n",
            "Requirement already satisfied: charset-normalizer<4,>=2 in /usr/local/lib/python3.10/dist-packages (from requests<3,>=2.21.0->tensorboard<2.16,>=2.15->tensorflow>=2.4.0->gpflow) (3.3.2)\n",
            "Requirement already satisfied: idna<4,>=2.5 in /usr/local/lib/python3.10/dist-packages (from requests<3,>=2.21.0->tensorboard<2.16,>=2.15->tensorflow>=2.4.0->gpflow) (3.6)\n",
            "Requirement already satisfied: urllib3<3,>=1.21.1 in /usr/local/lib/python3.10/dist-packages (from requests<3,>=2.21.0->tensorboard<2.16,>=2.15->tensorflow>=2.4.0->gpflow) (2.0.7)\n",
            "Requirement already satisfied: certifi>=2017.4.17 in /usr/local/lib/python3.10/dist-packages (from requests<3,>=2.21.0->tensorboard<2.16,>=2.15->tensorflow>=2.4.0->gpflow) (2024.2.2)\n",
            "Requirement already satisfied: MarkupSafe>=2.1.1 in /usr/local/lib/python3.10/dist-packages (from werkzeug>=1.0.1->tensorboard<2.16,>=2.15->tensorflow>=2.4.0->gpflow) (2.1.5)\n",
            "Requirement already satisfied: pyasn1<0.6.0,>=0.4.6 in /usr/local/lib/python3.10/dist-packages (from pyasn1-modules>=0.2.1->google-auth<3,>=1.6.3->tensorboard<2.16,>=2.15->tensorflow>=2.4.0->gpflow) (0.5.1)\n",
            "Requirement already satisfied: oauthlib>=3.0.0 in /usr/local/lib/python3.10/dist-packages (from requests-oauthlib>=0.7.0->google-auth-oauthlib<2,>=0.5->tensorboard<2.16,>=2.15->tensorflow>=2.4.0->gpflow) (3.2.2)\n"
          ]
        }
      ]
    },
    {
      "cell_type": "markdown",
      "source": [
        "We focus on the measurements at 28 days."
      ],
      "metadata": {
        "id": "CWVDqQLMLOw6"
      }
    },
    {
      "cell_type": "code",
      "source": [
        "data_28 = data[data['Time']==28]\n",
        "X_columns = data.columns[3:-5].to_list()\n",
        "Y_columns = [\"Strength (Mean)\"]"
      ],
      "metadata": {
        "id": "ehT35MfUj5Fb"
      },
      "execution_count": 7,
      "outputs": []
    },
    {
      "cell_type": "code",
      "source": [
        "X = data_28[X_columns].to_numpy()\n",
        "Y = data_28[Y_columns].to_numpy()"
      ],
      "metadata": {
        "id": "CWSRXglCkCcF"
      },
      "execution_count": 8,
      "outputs": []
    },
    {
      "cell_type": "markdown",
      "source": [
        "We use the robust GP proposed by Altamirano et al. 2023"
      ],
      "metadata": {
        "id": "tNkw2Q4JNkBI"
      }
    },
    {
      "cell_type": "code",
      "source": [
        "rcgp = RCGPR(\n",
        "    (X, Y),\n",
        "    kernel=gpflow.kernels.Matern32(),\n",
        "    weighting_function= IMQ(C=np.quantile(np.abs(Y), 0.95)),\n",
        "    noise_variance =1e-4\n",
        ")\n",
        "gpflow.set_trainable(rcgp.likelihood.variance, False)\n",
        "opt = gpflow.optimizers.Scipy()\n",
        "opt_options = dict()\n",
        "res = opt.minimize(rcgp.training_loss_closure(), rcgp.trainable_variables, options=opt_options)"
      ],
      "metadata": {
        "id": "ZyMPcsvvlhw9"
      },
      "execution_count": 9,
      "outputs": []
    },
    {
      "cell_type": "code",
      "source": [
        "plt.scatter(rcgp.predict_f(X,full_cov=False)[0],Y)\n",
        "plt.plot(np.linspace(np.min(Y), np.max(Y), 100), np.linspace(np.min(Y), np.max(Y), 100),'k-')"
      ],
      "metadata": {
        "colab": {
          "base_uri": "https://localhost:8080/",
          "height": 447
        },
        "id": "WMxczTm8mwvP",
        "outputId": "f76ac4e3-ff9d-46a6-a79e-aa4c92a9b1ff"
      },
      "execution_count": 10,
      "outputs": [
        {
          "output_type": "execute_result",
          "data": {
            "text/plain": [
              "[<matplotlib.lines.Line2D at 0x7af79ef8bca0>]"
            ]
          },
          "metadata": {},
          "execution_count": 10
        },
        {
          "output_type": "display_data",
          "data": {
            "text/plain": [
              "<Figure size 640x480 with 1 Axes>"
            ],
            "image/png": "[encoded data removed]"
          },
          "metadata": {}
        }
      ]
    },
    {
      "cell_type": "markdown",
      "source": [
        "## Get BO Recommendations with robust GP as surrogate model"
      ],
      "metadata": {
        "id": "t7g4oUn09GwI"
      }
    },
    {
      "cell_type": "markdown",
      "source": [
        "We first need to define the bounds for our input variables"
      ],
      "metadata": {
        "id": "NvSGIlg7Jh71"
      }
    },
    {
      "cell_type": "code",
      "source": [
        "bounds_dict = {\n",
        "    \"Cement\": (0, 950),\n",
        "    \"Fly Ash\": (0, 950),\n",
        "    \"Slag\": (0, 950),\n",
        "    \"Water\" : (35, 475),\n",
        "    \"HRWR\": (0, 95),\n",
        "    \"Fine Aggregate\": (925, 1775),\n",
        "    \"Curing Temp (°C)\": (0, 40),\n",
        "}\n",
        "bounds_array = np.array(list(bounds_dict.values()))\n",
        "dim = X.shape[1]"
      ],
      "metadata": {
        "id": "c-5CjufvZmlc"
      },
      "execution_count": 11,
      "outputs": []
    },
    {
      "cell_type": "markdown",
      "source": [
        "We use the upper confidence bound as our acquisition function\n",
        "\n",
        "---\n",
        "\n"
      ],
      "metadata": {
        "id": "07tHYm2-Jczv"
      }
    },
    {
      "cell_type": "code",
      "source": [
        "def upperConfidenceBounds(X, gp, kappa=10):\n",
        "\n",
        "    mu, var = gp.predict_f(X, full_cov=False)\n",
        "    sigma = np.sqrt(var)\n",
        "\n",
        "    ucb = mu + kappa * sigma\n",
        "\n",
        "    return ucb"
      ],
      "metadata": {
        "id": "nyV81KlsZm5A"
      },
      "execution_count": 12,
      "outputs": []
    },
    {
      "cell_type": "markdown",
      "source": [
        "We find the next step recommendation by maximising the acquisition function"
      ],
      "metadata": {
        "id": "JTNokQxCJ-qm"
      }
    },
    {
      "cell_type": "code",
      "source": [
        "from scipy.optimize import minimize\n",
        "from scipy.stats import norm\n",
        "\n",
        "min_val = 1e10\n",
        "min_x = None\n",
        "\n",
        "def min_obj(X_next):\n",
        "    # Minimization objective is the negative acquisition function\n",
        "    return -upperConfidenceBounds(X_next.reshape(-1, dim), rcgp).numpy().flatten()\n",
        "\n",
        "# Find the best optimum by starting from n_restart different random points.\n",
        "for x0 in np.random.uniform(bounds_array[:, 0], bounds_array[:, 1], size=(5, dim)):\n",
        "    res = minimize(min_obj, x0=x0, bounds=bounds_array, method='L-BFGS-B')\n",
        "    if res.fun < min_val:\n",
        "        min_val = res.fun\n",
        "        min_x = res.x.reshape(1, dim)\n"
      ],
      "metadata": {
        "id": "EkokDXuSZ6xF"
      },
      "execution_count": 13,
      "outputs": []
    },
    {
      "cell_type": "code",
      "source": [
        "print('Recommendation: ')\n",
        "for i in range(dim):\n",
        "        print('{} : {:.2f}'.format(X_columns[i], min_x[0][i]))"
      ],
      "metadata": {
        "colab": {
          "base_uri": "https://localhost:8080/"
        },
        "id": "PppgDm96_rk7",
        "outputId": "5de37856-952b-4a19-dc7e-dea3595d739c"
      },
      "execution_count": 14,
      "outputs": [
        {
          "output_type": "stream",
          "name": "stdout",
          "text": [
            "Recommendation: \n",
            "Cement : 775.18\n",
            "Fly Ash : 109.82\n",
            "Slag : 696.71\n",
            "Water : 124.90\n",
            "HRWR : 7.67\n",
            "Fine Aggregate : 1015.68\n",
            "Curing Temp (°C) : 30.85\n"
          ]
        }
      ]
    }
  ]
}